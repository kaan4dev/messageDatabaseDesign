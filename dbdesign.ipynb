{
 "cells": [
  {
   "cell_type": "markdown",
   "metadata": {},
   "source": [
    "# Requirements"
   ]
  },
  {
   "cell_type": "markdown",
   "metadata": {},
   "source": [
    "1. Send messages to other people\n",
    "2. Send to a phone number or a contact\n",
    "3. Contacts have first & last name, profile photo, phone number\n",
    "4. Text message only (no audio, video, GIFs, images)\n",
    "5. Multiple people in a group message\n",
    "6. Groups can have names\n",
    "7. Removed from a group = cannot see any further messages\n",
    "8. Added to a group = cannot see older messages."
   ]
  },
  {
   "cell_type": "markdown",
   "metadata": {},
   "source": [
    "### My Design For This Database"
   ]
  },
  {
   "cell_type": "code",
   "execution_count": null,
   "metadata": {
    "vscode": {
     "languageId": "plaintext"
    }
   },
   "outputs": [],
   "source": [
    "Table message \n",
    "{\n",
    "  messageID integer [primary key]\n",
    "  numberFrom integer\n",
    "  numberTo integer\n",
    "  messageText text\n",
    "  messageDateTime timestamp \n",
    "  contactID integer \n",
    "  groupId integer \n",
    "}\n",
    "\n",
    "Table contact \n",
    "{\n",
    "  contactID integer [primary key]\n",
    "  name varchar\n",
    "  lastName varchar\n",
    "  profilePhoto char\n",
    "  phoneNumber varchar(11)\n",
    "}\n",
    "\n",
    "Table messageGroup \n",
    "{\n",
    "  groupId integer [primary key]\n",
    "  groupName varchar(50)\n",
    "}\n",
    "\n",
    "Table groupMember\n",
    "{\n",
    "  contactID integer \n",
    "  groupId integer\n",
    "  joinAt timestamp\n",
    "  leftAt timestamp\n",
    "}\n",
    "\n",
    "Ref: message.contactID > contact.contactID\n",
    "\n",
    "Ref: contact.contactID < groupMember.contactID\n",
    "\n",
    "Ref: messageGroup.groupId < groupMember.groupId\n",
    "\n",
    "Ref: message.groupId > messageGroup.groupId"
   ]
  },
  {
   "cell_type": "markdown",
   "metadata": {},
   "source": [
    "## How it Should Be"
   ]
  },
  {
   "cell_type": "code",
   "execution_count": null,
   "metadata": {
    "vscode": {
     "languageId": "plaintext"
    }
   },
   "outputs": [],
   "source": [
    "Table message \n",
    "{\n",
    "  messageID integer [primary key]\n",
    "  numberFrom integer\n",
    "  numberTo integer\n",
    "  messageText text\n",
    "  messageDateTime timestamp \n",
    "  conversationId integer \n",
    "}\n",
    "\n",
    "Table contact \n",
    "{\n",
    "  contactID integer [primary key]\n",
    "  name varchar\n",
    "  lastName varchar\n",
    "  profilePhoto char\n",
    "  phoneNumber varchar(11)\n",
    "}\n",
    "\n",
    "Table conversation \n",
    "{\n",
    "  conversationId integer [primary key]\n",
    "  conversationName varchar(50)\n",
    "}\n",
    "\n",
    "Table groupMember\n",
    "{\n",
    "  contactID integer \n",
    "  conversationID integer\n",
    "  joinAt timestamp\n",
    "  leftAt timestamp\n",
    "}\n",
    "\n",
    "Ref: message.conversationId > conversation.conversationId\n",
    "Ref: contact.contactID < groupMember.contactID\n",
    "\n",
    "Ref: groupMember.conversationID > conversation.conversationId\n",
    "\n"
   ]
  }
 ],
 "metadata": {
  "language_info": {
   "name": "python"
  }
 },
 "nbformat": 4,
 "nbformat_minor": 2
}
